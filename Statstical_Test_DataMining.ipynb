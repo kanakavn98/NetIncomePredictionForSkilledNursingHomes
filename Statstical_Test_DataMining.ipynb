{
 "cells": [
  {
   "cell_type": "code",
   "execution_count": 4,
   "metadata": {},
   "outputs": [],
   "source": [
    "# importing libaries\n",
    "import numpy as np\n",
    "import pandas as pd\n",
    "import matplotlib.pyplot as plt\n",
    "import seaborn as sns\n",
    "import os\n",
    "import glob\n",
    "%matplotlib inline\n",
    "from scipy.stats import ttest_1samp\n",
    "from sklearn.model_selection import train_test_split\n",
    "from sklearn.preprocessing import StandardScaler\n",
    "from sklearn.linear_model import LogisticRegression\n",
    "from sklearn.metrics import accuracy_score, classification_report, confusion_matrix, roc_auc_score\n",
    "from sklearn.tree import DecisionTreeClassifier\n",
    "from sklearn.ensemble import RandomForestClassifier\n"
   ]
  },
  {
   "cell_type": "code",
   "execution_count": 18,
   "metadata": {},
   "outputs": [
    {
     "data": {
      "text/html": [
       "<div>\n",
       "<style scoped>\n",
       "    .dataframe tbody tr th:only-of-type {\n",
       "        vertical-align: middle;\n",
       "    }\n",
       "\n",
       "    .dataframe tbody tr th {\n",
       "        vertical-align: top;\n",
       "    }\n",
       "\n",
       "    .dataframe thead th {\n",
       "        text-align: right;\n",
       "    }\n",
       "</style>\n",
       "<table border=\"1\" class=\"dataframe\">\n",
       "  <thead>\n",
       "    <tr style=\"text-align: right;\">\n",
       "      <th></th>\n",
       "      <th>stud.id</th>\n",
       "      <th>name</th>\n",
       "      <th>gender</th>\n",
       "      <th>age</th>\n",
       "      <th>height</th>\n",
       "      <th>weight</th>\n",
       "      <th>religion</th>\n",
       "      <th>nc.score</th>\n",
       "      <th>semester</th>\n",
       "      <th>major</th>\n",
       "      <th>minor</th>\n",
       "      <th>score1</th>\n",
       "      <th>score2</th>\n",
       "      <th>online.tutorial</th>\n",
       "      <th>graduated</th>\n",
       "      <th>salary</th>\n",
       "    </tr>\n",
       "  </thead>\n",
       "  <tbody>\n",
       "    <tr>\n",
       "      <th>1</th>\n",
       "      <td>833917</td>\n",
       "      <td>Gonzales, Christina</td>\n",
       "      <td>Female</td>\n",
       "      <td>19</td>\n",
       "      <td>160</td>\n",
       "      <td>64.8</td>\n",
       "      <td>Muslim</td>\n",
       "      <td>1.91</td>\n",
       "      <td>1st</td>\n",
       "      <td>Political Science</td>\n",
       "      <td>Social Sciences</td>\n",
       "      <td>NaN</td>\n",
       "      <td>NaN</td>\n",
       "      <td>0</td>\n",
       "      <td>0</td>\n",
       "      <td>NaN</td>\n",
       "    </tr>\n",
       "  </tbody>\n",
       "</table>\n",
       "</div>"
      ],
      "text/plain": [
       "   stud.id                 name  gender  age  height  weight religion  \\\n",
       "1   833917  Gonzales, Christina  Female   19     160    64.8   Muslim   \n",
       "\n",
       "   nc.score semester              major            minor  score1  score2  \\\n",
       "1      1.91      1st  Political Science  Social Sciences     NaN     NaN   \n",
       "\n",
       "   online.tutorial  graduated  salary  \n",
       "1                0          0     NaN  "
      ]
     },
     "execution_count": 18,
     "metadata": {},
     "output_type": "execute_result"
    }
   ],
   "source": [
    "df_student=pd.read_csv('student.csv')\n",
    "df_student.head(1)"
   ]
  },
  {
   "cell_type": "code",
   "execution_count": 15,
   "metadata": {},
   "outputs": [
    {
     "data": {
      "text/plain": [
       "Index(['gender', 'age', 'height', 'weight', 'religion', 'nc.score', 'semester',\n",
       "       'major', 'minor', 'score1', 'score2', 'online.tutorial', 'graduated',\n",
       "       'salary'],\n",
       "      dtype='object')"
      ]
     },
     "execution_count": 15,
     "metadata": {},
     "output_type": "execute_result"
    }
   ],
   "source": [
    "df_student.columns"
   ]
  },
  {
   "cell_type": "code",
   "execution_count": 11,
   "metadata": {},
   "outputs": [],
   "source": [
    "df_student.drop(columns={'stud.id','name'},axis=1, inplace=True)"
   ]
  },
  {
   "cell_type": "code",
   "execution_count": 22,
   "metadata": {},
   "outputs": [
    {
     "data": {
      "text/html": [
       "<div>\n",
       "<style scoped>\n",
       "    .dataframe tbody tr th:only-of-type {\n",
       "        vertical-align: middle;\n",
       "    }\n",
       "\n",
       "    .dataframe tbody tr th {\n",
       "        vertical-align: top;\n",
       "    }\n",
       "\n",
       "    .dataframe thead th {\n",
       "        text-align: right;\n",
       "    }\n",
       "</style>\n",
       "<table border=\"1\" class=\"dataframe\">\n",
       "  <thead>\n",
       "    <tr style=\"text-align: right;\">\n",
       "      <th></th>\n",
       "      <th>stud.id</th>\n",
       "      <th>age</th>\n",
       "      <th>height</th>\n",
       "      <th>weight</th>\n",
       "      <th>nc.score</th>\n",
       "      <th>score1</th>\n",
       "      <th>score2</th>\n",
       "      <th>online.tutorial</th>\n",
       "      <th>graduated</th>\n",
       "      <th>salary</th>\n",
       "    </tr>\n",
       "  </thead>\n",
       "  <tbody>\n",
       "    <tr>\n",
       "      <th>count</th>\n",
       "      <td>8239.000000</td>\n",
       "      <td>8239.000000</td>\n",
       "      <td>8239.000000</td>\n",
       "      <td>8239.000000</td>\n",
       "      <td>8239.000000</td>\n",
       "      <td>4892.000000</td>\n",
       "      <td>4892.000000</td>\n",
       "      <td>8239.000000</td>\n",
       "      <td>8239.000000</td>\n",
       "      <td>1753.000000</td>\n",
       "    </tr>\n",
       "    <tr>\n",
       "      <th>mean</th>\n",
       "      <td>548910.484525</td>\n",
       "      <td>22.541571</td>\n",
       "      <td>171.380750</td>\n",
       "      <td>72.998131</td>\n",
       "      <td>2.166481</td>\n",
       "      <td>68.164963</td>\n",
       "      <td>69.494685</td>\n",
       "      <td>0.386212</td>\n",
       "      <td>0.212769</td>\n",
       "      <td>42522.112364</td>\n",
       "    </tr>\n",
       "    <tr>\n",
       "      <th>std</th>\n",
       "      <td>253849.389811</td>\n",
       "      <td>6.065111</td>\n",
       "      <td>11.077529</td>\n",
       "      <td>8.635162</td>\n",
       "      <td>0.811548</td>\n",
       "      <td>14.051762</td>\n",
       "      <td>14.395251</td>\n",
       "      <td>0.486910</td>\n",
       "      <td>0.409290</td>\n",
       "      <td>10333.139906</td>\n",
       "    </tr>\n",
       "    <tr>\n",
       "      <th>min</th>\n",
       "      <td>110250.000000</td>\n",
       "      <td>18.000000</td>\n",
       "      <td>135.000000</td>\n",
       "      <td>51.400000</td>\n",
       "      <td>1.000000</td>\n",
       "      <td>30.000000</td>\n",
       "      <td>31.000000</td>\n",
       "      <td>0.000000</td>\n",
       "      <td>0.000000</td>\n",
       "      <td>11444.141653</td>\n",
       "    </tr>\n",
       "    <tr>\n",
       "      <th>25%</th>\n",
       "      <td>331222.500000</td>\n",
       "      <td>20.000000</td>\n",
       "      <td>163.000000</td>\n",
       "      <td>66.500000</td>\n",
       "      <td>1.460000</td>\n",
       "      <td>58.000000</td>\n",
       "      <td>59.000000</td>\n",
       "      <td>0.000000</td>\n",
       "      <td>0.000000</td>\n",
       "      <td>35206.541598</td>\n",
       "    </tr>\n",
       "    <tr>\n",
       "      <th>50%</th>\n",
       "      <td>545132.000000</td>\n",
       "      <td>21.000000</td>\n",
       "      <td>171.000000</td>\n",
       "      <td>71.800000</td>\n",
       "      <td>2.040000</td>\n",
       "      <td>70.000000</td>\n",
       "      <td>71.000000</td>\n",
       "      <td>0.000000</td>\n",
       "      <td>0.000000</td>\n",
       "      <td>41672.009748</td>\n",
       "    </tr>\n",
       "    <tr>\n",
       "      <th>75%</th>\n",
       "      <td>770807.500000</td>\n",
       "      <td>23.000000</td>\n",
       "      <td>180.000000</td>\n",
       "      <td>78.500000</td>\n",
       "      <td>2.780000</td>\n",
       "      <td>78.000000</td>\n",
       "      <td>80.000000</td>\n",
       "      <td>1.000000</td>\n",
       "      <td>0.000000</td>\n",
       "      <td>49372.540906</td>\n",
       "    </tr>\n",
       "    <tr>\n",
       "      <th>max</th>\n",
       "      <td>989901.000000</td>\n",
       "      <td>64.000000</td>\n",
       "      <td>206.000000</td>\n",
       "      <td>116.000000</td>\n",
       "      <td>4.000000</td>\n",
       "      <td>97.000000</td>\n",
       "      <td>98.000000</td>\n",
       "      <td>1.000000</td>\n",
       "      <td>1.000000</td>\n",
       "      <td>75596.793441</td>\n",
       "    </tr>\n",
       "  </tbody>\n",
       "</table>\n",
       "</div>"
      ],
      "text/plain": [
       "             stud.id          age       height       weight     nc.score  \\\n",
       "count    8239.000000  8239.000000  8239.000000  8239.000000  8239.000000   \n",
       "mean   548910.484525    22.541571   171.380750    72.998131     2.166481   \n",
       "std    253849.389811     6.065111    11.077529     8.635162     0.811548   \n",
       "min    110250.000000    18.000000   135.000000    51.400000     1.000000   \n",
       "25%    331222.500000    20.000000   163.000000    66.500000     1.460000   \n",
       "50%    545132.000000    21.000000   171.000000    71.800000     2.040000   \n",
       "75%    770807.500000    23.000000   180.000000    78.500000     2.780000   \n",
       "max    989901.000000    64.000000   206.000000   116.000000     4.000000   \n",
       "\n",
       "            score1       score2  online.tutorial    graduated        salary  \n",
       "count  4892.000000  4892.000000      8239.000000  8239.000000   1753.000000  \n",
       "mean     68.164963    69.494685         0.386212     0.212769  42522.112364  \n",
       "std      14.051762    14.395251         0.486910     0.409290  10333.139906  \n",
       "min      30.000000    31.000000         0.000000     0.000000  11444.141653  \n",
       "25%      58.000000    59.000000         0.000000     0.000000  35206.541598  \n",
       "50%      70.000000    71.000000         0.000000     0.000000  41672.009748  \n",
       "75%      78.000000    80.000000         1.000000     0.000000  49372.540906  \n",
       "max      97.000000    98.000000         1.000000     1.000000  75596.793441  "
      ]
     },
     "execution_count": 22,
     "metadata": {},
     "output_type": "execute_result"
    }
   ],
   "source": [
    "df_student.describe()"
   ]
  },
  {
   "cell_type": "code",
   "execution_count": 19,
   "metadata": {},
   "outputs": [
    {
     "name": "stdout",
     "output_type": "stream",
     "text": [
      "The Normal ditst,: ['score1', 'score2', 'salary']\n",
      "The NOT_Normal ditst,: ['stud.id', 'age', 'height', 'weight', 'nc.score', 'online.tutorial', 'graduated']\n"
     ]
    },
    {
     "name": "stderr",
     "output_type": "stream",
     "text": [
      "c:\\Users\\kanak\\anaconda3\\Lib\\site-packages\\scipy\\stats\\_morestats.py:1882: UserWarning: p-value may not be accurate for N > 5000.\n",
      "  warnings.warn(\"p-value may not be accurate for N > 5000.\")\n"
     ]
    }
   ],
   "source": [
    "# checking whether the data is normally distributed \n",
    "# checking whether the numeric columns are normally distributed or not\n",
    "import scipy.stats as stats \n",
    "normal_dis=[]\n",
    "not_normaldis=[]\n",
    "for col in df_student.select_dtypes(include=['float64','int64']).columns:\n",
    "    stat, p = stats.shapiro(df_student[col])\n",
    "    #print(f'Column {col}: p-value={p:.4f}')\n",
    "    if p > 0.05:\n",
    "        normal_dis.append(col)\n",
    "        #print(f'Column {col} is normally distributed')\n",
    "    else:\n",
    "        not_normaldis.append(col)\n",
    "print(\"The Normal ditst,:\",normal_dis)\n",
    "print(\"The NOT_Normal ditst,:\",not_normaldis)\n",
    "        #print(f'Column {col} is not normally distributed')"
   ]
  },
  {
   "cell_type": "code",
   "execution_count": 20,
   "metadata": {},
   "outputs": [
    {
     "data": {
      "image/png": "[encoded data removed]",
      "text/plain": [
       "<Figure size 400x400 with 1 Axes>"
      ]
     },
     "metadata": {},
     "output_type": "display_data"
    }
   ],
   "source": [
    "def desc_num_feature(columns=None, bins=40, edgecolor='k', figsize=(4,4), **kwargs):\n",
    "    if columns is None:\n",
    "        raise ValueError(\"Please provide one or more columns.\")\n",
    "    \n",
    "    num_columns = len(columns)\n",
    "    fig, axes = plt.subplots(nrows=1, ncols=num_columns, figsize=(figsize[0]*num_columns, figsize[1]))\n",
    "    \n",
    "    for i, column in enumerate(columns):\n",
    "        ax = axes[i] if num_columns > 1 else axes\n",
    "        sns.histplot(df_student[column], bins=bins, kde=True, color='green', edgecolor=edgecolor, ax=ax, **kwargs)\n",
    "        ax.set_title(column, size=15)\n",
    "        desc_text = df_student[column].describe().to_string()\n",
    "        ax.text(1, 0.15, desc_text, size=10, transform=ax.transAxes, verticalalignment='top')\n",
    "    \n",
    "    plt.tight_layout()\n",
    "\n",
    "# Example usage\n",
    "desc_num_feature(columns=['weight'])\n",
    "plt.show()"
   ]
  },
  {
   "cell_type": "code",
   "execution_count": 13,
   "metadata": {},
   "outputs": [],
   "source": [
    "df_student.dropna(inplace=True)"
   ]
  },
  {
   "cell_type": "code",
   "execution_count": 21,
   "metadata": {},
   "outputs": [
    {
     "name": "stdout",
     "output_type": "stream",
     "text": [
      "One-sample t-test:\n",
      "t-statistic: 23.105763152371566\n",
      "p-value: 1.6709961011966602e-114\n"
     ]
    }
   ],
   "source": [
    "# one sample t- test \n",
    "# Sample data\n",
    "# Population mean to test against\n",
    "population_mean = 70.8\n",
    "# Perform one-sample t-test\n",
    "t_statistic, p_value = ttest_1samp(df_student['weight'], population_mean)\n",
    "# Output results\n",
    "print(\"One-sample t-test:\")\n",
    "print(\"t-statistic:\", t_statistic)\n",
    "print(\"p-value:\", p_value)\n"
   ]
  },
  {
   "cell_type": "code",
   "execution_count": 27,
   "metadata": {},
   "outputs": [
    {
     "name": "stdout",
     "output_type": "stream",
     "text": [
      "8.946942058314536e-77\n"
     ]
    }
   ],
   "source": [
    "# ques2\n",
    "df_score = df_student[(df_student['online.tutorial'] == 1) & (df_student['score1'].notnull()) & (df_student['score2'].notnull())][['name','score1','score2','online.tutorial']]\n",
    "from scipy.stats import ttest_rel\n",
    "test_statistic, p_value = ttest_rel(df_score['score1'],\n",
    "df_score['score2'], alternative='less')\n",
    "print(p_value)"
   ]
  },
  {
   "cell_type": "code",
   "execution_count": 28,
   "metadata": {},
   "outputs": [
    {
     "name": "stdout",
     "output_type": "stream",
     "text": [
      "0.7232359247303264\n"
     ]
    }
   ],
   "source": [
    "students_score_no_tutorial = df_student[(df_student['online.tutorial'] == 0) &(df_student['score1'].notnull()) & (df_student['score2'].notnull())][['name','score1','score2','online.tutorial']]\n",
    "test_statistic, p_value = ttest_rel(students_score_no_tutorial['score1'],students_score_no_tutorial['score2'], alternative='less')\n",
    "print(p_value)"
   ]
  },
  {
   "cell_type": "code",
   "execution_count": 29,
   "metadata": {},
   "outputs": [
    {
     "name": "stdout",
     "output_type": "stream",
     "text": [
      "4.6263625269778946e-67\n"
     ]
    }
   ],
   "source": [
    "#ques3\n",
    "df_male = df_student[(df_student['gender'] == 'Male') & (df_student['salary'].notnull())].sample(n=500)[['name', 'gender','salary']]\n",
    "df_female = df_student[(df_student['gender'] == 'Female') & (df_student['salary'].notnull())].sample(n=500)[['name', 'gender','salary']]\n",
    "from scipy.stats import ttest_ind\n",
    "test_statistic, p_value = ttest_ind(df_male['salary'], df_female['salary'],alternative='greater')\n",
    "print(p_value)\n"
   ]
  },
  {
   "cell_type": "code",
   "execution_count": 23,
   "metadata": {},
   "outputs": [
    {
     "data": {
      "text/plain": [
       "array(['Political Science', 'Social Sciences', 'Environmental Sciences',\n",
       "       'Economics and Finance', 'Mathematics and Statistics', 'Biology'],\n",
       "      dtype=object)"
      ]
     },
     "execution_count": 23,
     "metadata": {},
     "output_type": "execute_result"
    }
   ],
   "source": [
    "df_student['major'].unique()"
   ]
  },
  {
   "cell_type": "code",
   "execution_count": 26,
   "metadata": {},
   "outputs": [
    {
     "name": "stdout",
     "output_type": "stream",
     "text": [
      "F-statistic: 242.50048028069665\n",
      "p-value: 5.524326632416886e-197\n"
     ]
    }
   ],
   "source": [
    "#Question 4: Anova test \n",
    "\n",
    "from scipy.stats import f_oneway\n",
    "group_a = df_student[(df_student['major'] == 'Biology') & (df_student['salary'].notnull())][['name','major','salary']]\n",
    "group_b = df_student[(df_student['major'] == 'Economics and Finance') & (df_student['salary'].notnull())][['name','major','salary']]\n",
    "group_c = df_student[(df_student['major'] == 'Environmental Sciences') & (df_student['salary'].notnull())][['name','major','salary']]\n",
    "group_d = df_student[(df_student['major'] == 'Mathematics and Statistics') & (df_student['salary'].notnull())][['name','major','salary']]\n",
    "group_e = df_student[(df_student['major'] == 'Political Science') & (df_student['salary'].notnull())][['name','major','salary']]\n",
    "group_f = df_student[(df_student['major'] == 'Social Sciences') &(df_student['salary'].notnull())][['name','major','salary']]\n",
    "\n",
    "f_statistic, p_value = f_oneway(group_a['salary'], group_b['salary'],group_c['salary'],group_d['salary'],group_e['salary'],group_f['salary'])\n",
    "# Print the results\n",
    "print(\"F-statistic:\", f_statistic)\n",
    "print(\"p-value:\", p_value)"
   ]
  },
  {
   "cell_type": "code",
   "execution_count": 38,
   "metadata": {},
   "outputs": [
    {
     "data": {
      "text/html": [
       "<div>\n",
       "<style scoped>\n",
       "    .dataframe tbody tr th:only-of-type {\n",
       "        vertical-align: middle;\n",
       "    }\n",
       "\n",
       "    .dataframe tbody tr th {\n",
       "        vertical-align: top;\n",
       "    }\n",
       "\n",
       "    .dataframe thead th {\n",
       "        text-align: right;\n",
       "    }\n",
       "</style>\n",
       "<table border=\"1\" class=\"dataframe\">\n",
       "  <thead>\n",
       "    <tr style=\"text-align: right;\">\n",
       "      <th></th>\n",
       "      <th>religion</th>\n",
       "      <th>observed_count</th>\n",
       "    </tr>\n",
       "  </thead>\n",
       "  <tbody>\n",
       "    <tr>\n",
       "      <th>0</th>\n",
       "      <td>Catholic</td>\n",
       "      <td>2797</td>\n",
       "    </tr>\n",
       "    <tr>\n",
       "      <th>1</th>\n",
       "      <td>Other</td>\n",
       "      <td>2688</td>\n",
       "    </tr>\n",
       "    <tr>\n",
       "      <th>2</th>\n",
       "      <td>Protestant</td>\n",
       "      <td>1839</td>\n",
       "    </tr>\n",
       "    <tr>\n",
       "      <th>3</th>\n",
       "      <td>Orthodox</td>\n",
       "      <td>585</td>\n",
       "    </tr>\n",
       "    <tr>\n",
       "      <th>4</th>\n",
       "      <td>Muslim</td>\n",
       "      <td>330</td>\n",
       "    </tr>\n",
       "  </tbody>\n",
       "</table>\n",
       "</div>"
      ],
      "text/plain": [
       "     religion  observed_count\n",
       "0    Catholic            2797\n",
       "1       Other            2688\n",
       "2  Protestant            1839\n",
       "3    Orthodox             585\n",
       "4      Muslim             330"
      ]
     },
     "execution_count": 38,
     "metadata": {},
     "output_type": "execute_result"
    }
   ],
   "source": [
    "#question 5\n",
    "religion_count = pd.DataFrame(df_student['religion'].value_counts()).reset_index()\n",
    "# Rename the columns\n",
    "religion_count.columns = ['religion', 'observed_count']\n",
    "religion_count\n"
   ]
  },
  {
   "cell_type": "code",
   "execution_count": 39,
   "metadata": {},
   "outputs": [
    {
     "data": {
      "text/html": [
       "<div>\n",
       "<style scoped>\n",
       "    .dataframe tbody tr th:only-of-type {\n",
       "        vertical-align: middle;\n",
       "    }\n",
       "\n",
       "    .dataframe tbody tr th {\n",
       "        vertical-align: top;\n",
       "    }\n",
       "\n",
       "    .dataframe thead th {\n",
       "        text-align: right;\n",
       "    }\n",
       "</style>\n",
       "<table border=\"1\" class=\"dataframe\">\n",
       "  <thead>\n",
       "    <tr style=\"text-align: right;\">\n",
       "      <th></th>\n",
       "      <th>religion</th>\n",
       "      <th>rel_freq</th>\n",
       "      <th>expected_count</th>\n",
       "    </tr>\n",
       "  </thead>\n",
       "  <tbody>\n",
       "    <tr>\n",
       "      <th>0</th>\n",
       "      <td>Catholic</td>\n",
       "      <td>0.48</td>\n",
       "      <td>3954.72</td>\n",
       "    </tr>\n",
       "    <tr>\n",
       "      <th>1</th>\n",
       "      <td>Muslim</td>\n",
       "      <td>0.02</td>\n",
       "      <td>164.78</td>\n",
       "    </tr>\n",
       "    <tr>\n",
       "      <th>2</th>\n",
       "      <td>Orthodox</td>\n",
       "      <td>0.08</td>\n",
       "      <td>659.12</td>\n",
       "    </tr>\n",
       "    <tr>\n",
       "      <th>3</th>\n",
       "      <td>Other</td>\n",
       "      <td>0.30</td>\n",
       "      <td>2471.70</td>\n",
       "    </tr>\n",
       "    <tr>\n",
       "      <th>4</th>\n",
       "      <td>Protestant</td>\n",
       "      <td>0.12</td>\n",
       "      <td>988.68</td>\n",
       "    </tr>\n",
       "  </tbody>\n",
       "</table>\n",
       "</div>"
      ],
      "text/plain": [
       "     religion  rel_freq  expected_count\n",
       "0    Catholic      0.48         3954.72\n",
       "1      Muslim      0.02          164.78\n",
       "2    Orthodox      0.08          659.12\n",
       "3       Other      0.30         2471.70\n",
       "4  Protestant      0.12          988.68"
      ]
     },
     "execution_count": 39,
     "metadata": {},
     "output_type": "execute_result"
    }
   ],
   "source": [
    "religion = ['Catholic', 'Muslim', 'Orthodox', 'Other', 'Protestant']\n",
    "rel_freq = [0.48, 0.02, 0.08,0.30, 0.12]\n",
    "df_rel_freq = pd.DataFrame({'religion' : religion, 'rel_freq': rel_freq})\n",
    "df_rel_freq['expected_count'] = df_rel_freq['rel_freq'] * df_student.shape[0]\n",
    "df_rel_freq"
   ]
  },
  {
   "cell_type": "code",
   "execution_count": 40,
   "metadata": {},
   "outputs": [],
   "source": [
    "df_rel_freq =df_rel_freq.merge(religion_count, on='religion',how='inner')"
   ]
  },
  {
   "cell_type": "code",
   "execution_count": 41,
   "metadata": {},
   "outputs": [
    {
     "name": "stdout",
     "output_type": "stream",
     "text": [
      "3.226950560350011e-272\n"
     ]
    }
   ],
   "source": [
    "from scipy.stats import chisquare\n",
    "test_statistic, p_value = chisquare(df_rel_freq['observed_count'],df_rel_freq['expected_count'])\n",
    "print(p_value)"
   ]
  },
  {
   "cell_type": "code",
   "execution_count": 42,
   "metadata": {},
   "outputs": [
    {
     "name": "stdout",
     "output_type": "stream",
     "text": [
      "5.501737149286338e-187\n"
     ]
    }
   ],
   "source": [
    "# question 6 : the ans with chi square its  null hytophesis is no relation , so they are highly related to \n",
    "df_major = pd.crosstab(df_student['major'], df_student['gender'])\n",
    "from scipy.stats import chi2_contingency\n",
    "test_statistic, p_value, x, c = chi2_contingency(df_major)\n",
    "print(p_value)"
   ]
  },
  {
   "cell_type": "code",
   "execution_count": 5,
   "metadata": {},
   "outputs": [
    {
     "name": "stdout",
     "output_type": "stream",
     "text": [
      "15\n"
     ]
    }
   ],
   "source": [
    "from PythonProgramming import summation\n",
    "\n",
    "\n",
    "print(summation(5))\n",
    "#print(summation(4))"
   ]
  },
  {
   "cell_type": "code",
   "execution_count": 1,
   "metadata": {},
   "outputs": [
    {
     "name": "stdout",
     "output_type": "stream",
     "text": [
      "Collecting scheduleNote: you may need to restart the kernel to use updated packages.\n",
      "\n",
      "  Obtaining dependency information for schedule from https://files.pythonhosted.org/packages/f0/1a/e5a65c08d708ee4c002f3f938ba69b2282af478755700c40f037eacc92ef/schedule-1.2.1-py2.py3-none-any.whl.metadata\n",
      "  Downloading schedule-1.2.1-py2.py3-none-any.whl.metadata (3.3 kB)\n",
      "Downloading schedule-1.2.1-py2.py3-none-any.whl (11 kB)\n",
      "Installing collected packages: schedule\n",
      "Successfully installed schedule-1.2.1\n"
     ]
    }
   ],
   "source": [
    "pip install schedule"
   ]
  },
  {
   "cell_type": "code",
   "execution_count": 6,
   "metadata": {},
   "outputs": [
    {
     "name": "stdout",
     "output_type": "stream",
     "text": [
      "Processing file: C:/Users/kanak/Desktop/Semester 2/BANA622_ProgramBusinessAnalytics\\diamonds.csv\n",
      "       carat        cut color clarity  depth  table  price     x     y     z\n",
      "0       0.23      Ideal     E     SI2   61.5   55.0    326  3.95  3.98  2.43\n",
      "1       0.21    Premium     E     SI1   59.8   61.0    326  3.89  3.84  2.31\n",
      "2       0.23       Good     E     VS1   56.9   65.0    327  4.05  4.07  2.31\n",
      "3       0.29    Premium     I     VS2   62.4   58.0    334  4.20  4.23  2.63\n",
      "4       0.31       Good     J     SI2   63.3   58.0    335  4.34  4.35  2.75\n",
      "...      ...        ...   ...     ...    ...    ...    ...   ...   ...   ...\n",
      "53935   0.72      Ideal     D     SI1   60.8   57.0   2757  5.75  5.76  3.50\n",
      "53936   0.72       Good     D     SI1   63.1   55.0   2757  5.69  5.75  3.61\n",
      "53937   0.70  Very Good     D     SI1   62.8   60.0   2757  5.66  5.68  3.56\n",
      "53938   0.86    Premium     H     SI2   61.0   58.0   2757  6.15  6.12  3.74\n",
      "53939   0.75      Ideal     D     SI2   62.2   55.0   2757  5.83  5.87  3.64\n",
      "\n",
      "[53940 rows x 10 columns]\n"
     ]
    }
   ],
   "source": [
    "from PythonProgramming import process_files\n",
    "\n",
    "print(process_files())"
   ]
  }
 ],
 "metadata": {
  "kernelspec": {
   "display_name": "base",
   "language": "python",
   "name": "python3"
  },
  "language_info": {
   "codemirror_mode": {
    "name": "ipython",
    "version": 3
   },
   "file_extension": ".py",
   "mimetype": "text/x-python",
   "name": "python",
   "nbconvert_exporter": "python",
   "pygments_lexer": "ipython3",
   "version": "3.11.5"
  }
 },
 "nbformat": 4,
 "nbformat_minor": 2
}
